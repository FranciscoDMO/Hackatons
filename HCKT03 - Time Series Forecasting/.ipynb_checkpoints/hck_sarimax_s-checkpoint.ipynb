{
 "cells": [
  {
   "cell_type": "code",
   "execution_count": 2,
   "id": "81cbbbe0",
   "metadata": {},
   "outputs": [],
   "source": [
    "import pandas as pd\n",
    "\n",
    "from utils import *\n",
    "#pd.options.plotting.backend = \"plotly\"\n",
    "import pandas as pd \n",
    "from sklearn.linear_model import LinearRegression\n",
    "from matplotlib import pyplot as plt \n",
    "from sklearn.ensemble import GradientBoostingRegressor\n",
    "from tqdm import tqdm_notebook as tqdm\n",
    "from sklearn.model_selection import KFold\n",
    "from sklearn.metrics import mean_absolute_error\n",
    "%matplotlib inline \n",
    "import numpy as np\n",
    "plt.rcParams['figure.figsize'] = (16, 4)\n",
    "\n",
    "import warnings\n",
    "warnings.filterwarnings(action=\"ignore\")\n",
    "warnings.filterwarnings(action=\"ignore\", module=\"scipy\", message=\"^internal gelsd\")\n",
    "\n",
    "from utils import * # We've added all the functions from the last BLU to the utils.py "
   ]
  },
  {
   "cell_type": "code",
   "execution_count": 3,
   "id": "a1d3bb0c",
   "metadata": {},
   "outputs": [],
   "source": [
    "df = pd.read_csv(\"data/data.csv\", index_col=\"date\", parse_dates=True)"
   ]
  },
  {
   "cell_type": "code",
   "execution_count": 4,
   "id": "b121f6cd",
   "metadata": {},
   "outputs": [
    {
     "data": {
      "text/html": [
       "<div>\n",
       "<style scoped>\n",
       "    .dataframe tbody tr th:only-of-type {\n",
       "        vertical-align: middle;\n",
       "    }\n",
       "\n",
       "    .dataframe tbody tr th {\n",
       "        vertical-align: top;\n",
       "    }\n",
       "\n",
       "    .dataframe thead th {\n",
       "        text-align: right;\n",
       "    }\n",
       "</style>\n",
       "<table border=\"1\" class=\"dataframe\">\n",
       "  <thead>\n",
       "    <tr style=\"text-align: right;\">\n",
       "      <th></th>\n",
       "      <th>PM2.5</th>\n",
       "      <th>exog</th>\n",
       "    </tr>\n",
       "    <tr>\n",
       "      <th>date</th>\n",
       "      <th></th>\n",
       "      <th></th>\n",
       "    </tr>\n",
       "  </thead>\n",
       "  <tbody>\n",
       "    <tr>\n",
       "      <th>2013-03-01 00:00:00</th>\n",
       "      <td>4.0</td>\n",
       "      <td>4.4</td>\n",
       "    </tr>\n",
       "    <tr>\n",
       "      <th>2013-03-01 01:00:00</th>\n",
       "      <td>8.0</td>\n",
       "      <td>4.7</td>\n",
       "    </tr>\n",
       "    <tr>\n",
       "      <th>2013-03-01 02:00:00</th>\n",
       "      <td>7.0</td>\n",
       "      <td>5.6</td>\n",
       "    </tr>\n",
       "    <tr>\n",
       "      <th>2013-03-01 03:00:00</th>\n",
       "      <td>6.0</td>\n",
       "      <td>3.1</td>\n",
       "    </tr>\n",
       "    <tr>\n",
       "      <th>2013-03-01 04:00:00</th>\n",
       "      <td>3.0</td>\n",
       "      <td>2.0</td>\n",
       "    </tr>\n",
       "    <tr>\n",
       "      <th>...</th>\n",
       "      <td>...</td>\n",
       "      <td>...</td>\n",
       "    </tr>\n",
       "    <tr>\n",
       "      <th>2017-02-21 19:00:00</th>\n",
       "      <td>NaN</td>\n",
       "      <td>1.4</td>\n",
       "    </tr>\n",
       "    <tr>\n",
       "      <th>2017-02-21 20:00:00</th>\n",
       "      <td>NaN</td>\n",
       "      <td>1.5</td>\n",
       "    </tr>\n",
       "    <tr>\n",
       "      <th>2017-02-21 21:00:00</th>\n",
       "      <td>NaN</td>\n",
       "      <td>1.1</td>\n",
       "    </tr>\n",
       "    <tr>\n",
       "      <th>2017-02-21 22:00:00</th>\n",
       "      <td>NaN</td>\n",
       "      <td>1.7</td>\n",
       "    </tr>\n",
       "    <tr>\n",
       "      <th>2017-02-21 23:00:00</th>\n",
       "      <td>NaN</td>\n",
       "      <td>2.0</td>\n",
       "    </tr>\n",
       "  </tbody>\n",
       "</table>\n",
       "<p>34896 rows × 2 columns</p>\n",
       "</div>"
      ],
      "text/plain": [
       "                     PM2.5  exog\n",
       "date                            \n",
       "2013-03-01 00:00:00    4.0   4.4\n",
       "2013-03-01 01:00:00    8.0   4.7\n",
       "2013-03-01 02:00:00    7.0   5.6\n",
       "2013-03-01 03:00:00    6.0   3.1\n",
       "2013-03-01 04:00:00    3.0   2.0\n",
       "...                    ...   ...\n",
       "2017-02-21 19:00:00    NaN   1.4\n",
       "2017-02-21 20:00:00    NaN   1.5\n",
       "2017-02-21 21:00:00    NaN   1.1\n",
       "2017-02-21 22:00:00    NaN   1.7\n",
       "2017-02-21 23:00:00    NaN   2.0\n",
       "\n",
       "[34896 rows x 2 columns]"
      ]
     },
     "execution_count": 4,
     "metadata": {},
     "output_type": "execute_result"
    }
   ],
   "source": [
    "df "
   ]
  },
  {
   "cell_type": "code",
   "execution_count": 5,
   "id": "59778ea2",
   "metadata": {},
   "outputs": [
    {
     "data": {
      "text/html": [
       "<div>\n",
       "<style scoped>\n",
       "    .dataframe tbody tr th:only-of-type {\n",
       "        vertical-align: middle;\n",
       "    }\n",
       "\n",
       "    .dataframe tbody tr th {\n",
       "        vertical-align: top;\n",
       "    }\n",
       "\n",
       "    .dataframe thead th {\n",
       "        text-align: right;\n",
       "    }\n",
       "</style>\n",
       "<table border=\"1\" class=\"dataframe\">\n",
       "  <thead>\n",
       "    <tr style=\"text-align: right;\">\n",
       "      <th></th>\n",
       "      <th>PM2.5</th>\n",
       "      <th>exog</th>\n",
       "    </tr>\n",
       "    <tr>\n",
       "      <th>date</th>\n",
       "      <th></th>\n",
       "      <th></th>\n",
       "    </tr>\n",
       "  </thead>\n",
       "  <tbody>\n",
       "    <tr>\n",
       "      <th>2013-05-02 21:00:00</th>\n",
       "      <td>NaN</td>\n",
       "      <td>2.8</td>\n",
       "    </tr>\n",
       "    <tr>\n",
       "      <th>2013-05-16 13:00:00</th>\n",
       "      <td>NaN</td>\n",
       "      <td>2.7</td>\n",
       "    </tr>\n",
       "    <tr>\n",
       "      <th>2013-06-07 16:00:00</th>\n",
       "      <td>NaN</td>\n",
       "      <td>0.8</td>\n",
       "    </tr>\n",
       "    <tr>\n",
       "      <th>2013-06-25 01:00:00</th>\n",
       "      <td>NaN</td>\n",
       "      <td>0.2</td>\n",
       "    </tr>\n",
       "    <tr>\n",
       "      <th>2013-06-26 00:00:00</th>\n",
       "      <td>NaN</td>\n",
       "      <td>0.4</td>\n",
       "    </tr>\n",
       "    <tr>\n",
       "      <th>2013-08-22 11:00:00</th>\n",
       "      <td>NaN</td>\n",
       "      <td>1.1</td>\n",
       "    </tr>\n",
       "    <tr>\n",
       "      <th>2013-09-29 15:00:00</th>\n",
       "      <td>NaN</td>\n",
       "      <td>2.0</td>\n",
       "    </tr>\n",
       "    <tr>\n",
       "      <th>2013-10-22 12:00:00</th>\n",
       "      <td>NaN</td>\n",
       "      <td>2.0</td>\n",
       "    </tr>\n",
       "    <tr>\n",
       "      <th>2013-11-07 15:00:00</th>\n",
       "      <td>NaN</td>\n",
       "      <td>2.5</td>\n",
       "    </tr>\n",
       "    <tr>\n",
       "      <th>2013-11-18 16:00:00</th>\n",
       "      <td>NaN</td>\n",
       "      <td>2.0</td>\n",
       "    </tr>\n",
       "    <tr>\n",
       "      <th>2013-12-18 16:00:00</th>\n",
       "      <td>NaN</td>\n",
       "      <td>2.3</td>\n",
       "    </tr>\n",
       "    <tr>\n",
       "      <th>2014-01-23 10:00:00</th>\n",
       "      <td>NaN</td>\n",
       "      <td>1.9</td>\n",
       "    </tr>\n",
       "    <tr>\n",
       "      <th>2014-01-25 19:00:00</th>\n",
       "      <td>NaN</td>\n",
       "      <td>1.4</td>\n",
       "    </tr>\n",
       "    <tr>\n",
       "      <th>2014-01-25 20:00:00</th>\n",
       "      <td>NaN</td>\n",
       "      <td>1.9</td>\n",
       "    </tr>\n",
       "    <tr>\n",
       "      <th>2014-01-25 21:00:00</th>\n",
       "      <td>NaN</td>\n",
       "      <td>1.8</td>\n",
       "    </tr>\n",
       "    <tr>\n",
       "      <th>2014-01-25 22:00:00</th>\n",
       "      <td>NaN</td>\n",
       "      <td>3.4</td>\n",
       "    </tr>\n",
       "    <tr>\n",
       "      <th>2014-01-27 23:00:00</th>\n",
       "      <td>NaN</td>\n",
       "      <td>1.9</td>\n",
       "    </tr>\n",
       "    <tr>\n",
       "      <th>2014-02-11 12:00:00</th>\n",
       "      <td>NaN</td>\n",
       "      <td>2.2</td>\n",
       "    </tr>\n",
       "    <tr>\n",
       "      <th>2014-02-14 15:00:00</th>\n",
       "      <td>NaN</td>\n",
       "      <td>1.0</td>\n",
       "    </tr>\n",
       "    <tr>\n",
       "      <th>2014-02-14 16:00:00</th>\n",
       "      <td>NaN</td>\n",
       "      <td>1.5</td>\n",
       "    </tr>\n",
       "  </tbody>\n",
       "</table>\n",
       "</div>"
      ],
      "text/plain": [
       "                     PM2.5  exog\n",
       "date                            \n",
       "2013-05-02 21:00:00    NaN   2.8\n",
       "2013-05-16 13:00:00    NaN   2.7\n",
       "2013-06-07 16:00:00    NaN   0.8\n",
       "2013-06-25 01:00:00    NaN   0.2\n",
       "2013-06-26 00:00:00    NaN   0.4\n",
       "2013-08-22 11:00:00    NaN   1.1\n",
       "2013-09-29 15:00:00    NaN   2.0\n",
       "2013-10-22 12:00:00    NaN   2.0\n",
       "2013-11-07 15:00:00    NaN   2.5\n",
       "2013-11-18 16:00:00    NaN   2.0\n",
       "2013-12-18 16:00:00    NaN   2.3\n",
       "2014-01-23 10:00:00    NaN   1.9\n",
       "2014-01-25 19:00:00    NaN   1.4\n",
       "2014-01-25 20:00:00    NaN   1.9\n",
       "2014-01-25 21:00:00    NaN   1.8\n",
       "2014-01-25 22:00:00    NaN   3.4\n",
       "2014-01-27 23:00:00    NaN   1.9\n",
       "2014-02-11 12:00:00    NaN   2.2\n",
       "2014-02-14 15:00:00    NaN   1.0\n",
       "2014-02-14 16:00:00    NaN   1.5"
      ]
     },
     "execution_count": 5,
     "metadata": {},
     "output_type": "execute_result"
    }
   ],
   "source": [
    "null_rows = df[df.isnull().any(axis=1)]\n",
    "null_rows.head(20)"
   ]
  },
  {
   "cell_type": "code",
   "execution_count": 6,
   "id": "eb0522f3",
   "metadata": {},
   "outputs": [],
   "source": [
    "#df = build_exog_features(df, 24*7)"
   ]
  },
  {
   "cell_type": "code",
   "execution_count": 7,
   "id": "e817f6a8",
   "metadata": {},
   "outputs": [],
   "source": [
    "df[\"baseline\"] = df['PM2.5'].shift(24*7)"
   ]
  },
  {
   "cell_type": "code",
   "execution_count": 8,
   "id": "b08fdf93",
   "metadata": {},
   "outputs": [],
   "source": [
    "df_ = df.copy()\n",
    "\n",
    "df_['unique_id']=1"
   ]
  },
  {
   "cell_type": "code",
   "execution_count": 9,
   "id": "4a6696ac",
   "metadata": {},
   "outputs": [],
   "source": [
    "df_ = df_.reset_index(inplace=False)\n",
    "df_ = df_.rename(columns={'date': 'ds', 'PM2.5': 'y', 'exog': 'trend'})\n",
    "df_ = df_[['unique_id', 'ds', 'y','trend']]"
   ]
  },
  {
   "cell_type": "code",
   "execution_count": 10,
   "id": "c16f7536",
   "metadata": {},
   "outputs": [],
   "source": [
    "train = df.iloc[:-24*7]\n",
    "test1 = df.iloc[-24*7:]\n",
    "from sklearn.impute import KNNImputer\n",
    "imputer = KNNImputer() # To obtain better results we may want to have more neighbors, of course that in a real setting\n",
    "                       # this is a parameter that should be tunned\n",
    "    \n",
    "imputed_train = imputer.fit_transform(train) # This may take a bit to run\n",
    "train = pd.DataFrame(imputed_train, index=train.index, columns=train.columns)\n",
    "\n",
    "\n",
    "train1 = train.iloc[:-24*7*2]\n",
    "val1 = train.iloc[-24*7*2:-24*7]\n",
    "train_val1 = train.iloc[:-24*7]\n"
   ]
  },
  {
   "cell_type": "code",
   "execution_count": 11,
   "id": "384e66a1",
   "metadata": {},
   "outputs": [],
   "source": [
    "df_ = train_val1.reset_index(inplace=False)\n",
    "df_['unique_id']=1\n",
    "df_ = df_.rename(columns={'date': 'ds', 'PM2.5': 'y', 'exog': 'trend'})\n",
    "df_ = df_[['unique_id', 'ds', 'y','trend']]\n",
    "\n",
    "df_train_val = df_"
   ]
  },
  {
   "cell_type": "code",
   "execution_count": 19,
   "id": "30e1f5aa",
   "metadata": {},
   "outputs": [
    {
     "data": {
      "text/plain": [
       "\"val2=val1.drop(columns='y',axis=1).copy()\\nval2.tail(24)\""
      ]
     },
     "execution_count": 19,
     "metadata": {},
     "output_type": "execute_result"
    }
   ],
   "source": [
    "'''val2=val1.drop(columns='y',axis=1).copy()\n",
    "val2.tail(24)'''\n",
    "\n",
    "\n"
   ]
  },
  {
   "cell_type": "code",
   "execution_count": null,
   "id": "a73af4b4",
   "metadata": {},
   "outputs": [],
   "source": [
    "from statsforecast import StatsForecast\n",
    "from statsforecast.models import AutoARIMA\n",
    "\n",
    "season_length = 1\n",
    "sf = StatsForecast(\n",
    "    models=[AutoARIMA(season_length=1)], \n",
    "    freq='H', \n",
    "    n_jobs=-1\n",
    ")\n",
    "sf.fit(df_train_val)"
   ]
  },
  {
   "cell_type": "code",
   "execution_count": null,
   "id": "054f75e9",
   "metadata": {},
   "outputs": [],
   "source": [
    "df_predict = sf.predict(h=168 , X_df=val2)\n",
    "\n",
    "df_predict = df_predict.reset_index().set_index('ds')\n",
    "\n",
    "\n",
    "real_val= val1\n",
    "\n",
    "real_val = val1.reset_index().set_index('ds')\n",
    "real_val['AutoARIMA'] = np.nan\n",
    "real_val"
   ]
  },
  {
   "cell_type": "code",
   "execution_count": 84,
   "id": "3d0e9ae6",
   "metadata": {},
   "outputs": [
    {
     "data": {
      "text/html": [
       "<div>\n",
       "<style scoped>\n",
       "    .dataframe tbody tr th:only-of-type {\n",
       "        vertical-align: middle;\n",
       "    }\n",
       "\n",
       "    .dataframe tbody tr th {\n",
       "        vertical-align: top;\n",
       "    }\n",
       "\n",
       "    .dataframe thead th {\n",
       "        text-align: right;\n",
       "    }\n",
       "</style>\n",
       "<table border=\"1\" class=\"dataframe\">\n",
       "  <thead>\n",
       "    <tr style=\"text-align: right;\">\n",
       "      <th></th>\n",
       "      <th>unique_id</th>\n",
       "      <th>AutoARIMA</th>\n",
       "    </tr>\n",
       "    <tr>\n",
       "      <th>ds</th>\n",
       "      <th></th>\n",
       "      <th></th>\n",
       "    </tr>\n",
       "  </thead>\n",
       "  <tbody>\n",
       "    <tr>\n",
       "      <th>2017-02-08 00:00:00</th>\n",
       "      <td>1</td>\n",
       "      <td>112.063156</td>\n",
       "    </tr>\n",
       "    <tr>\n",
       "      <th>2017-02-08 01:00:00</th>\n",
       "      <td>1</td>\n",
       "      <td>110.415657</td>\n",
       "    </tr>\n",
       "    <tr>\n",
       "      <th>2017-02-08 02:00:00</th>\n",
       "      <td>1</td>\n",
       "      <td>107.883820</td>\n",
       "    </tr>\n",
       "    <tr>\n",
       "      <th>2017-02-08 03:00:00</th>\n",
       "      <td>1</td>\n",
       "      <td>105.835960</td>\n",
       "    </tr>\n",
       "    <tr>\n",
       "      <th>2017-02-08 04:00:00</th>\n",
       "      <td>1</td>\n",
       "      <td>104.206467</td>\n",
       "    </tr>\n",
       "    <tr>\n",
       "      <th>...</th>\n",
       "      <td>...</td>\n",
       "      <td>...</td>\n",
       "    </tr>\n",
       "    <tr>\n",
       "      <th>2017-02-14 19:00:00</th>\n",
       "      <td>1</td>\n",
       "      <td>7.585774</td>\n",
       "    </tr>\n",
       "    <tr>\n",
       "      <th>2017-02-14 20:00:00</th>\n",
       "      <td>1</td>\n",
       "      <td>8.040824</td>\n",
       "    </tr>\n",
       "    <tr>\n",
       "      <th>2017-02-14 21:00:00</th>\n",
       "      <td>1</td>\n",
       "      <td>7.389902</td>\n",
       "    </tr>\n",
       "    <tr>\n",
       "      <th>2017-02-14 22:00:00</th>\n",
       "      <td>1</td>\n",
       "      <td>7.262471</td>\n",
       "    </tr>\n",
       "    <tr>\n",
       "      <th>2017-02-14 23:00:00</th>\n",
       "      <td>1</td>\n",
       "      <td>7.267418</td>\n",
       "    </tr>\n",
       "  </tbody>\n",
       "</table>\n",
       "<p>168 rows × 2 columns</p>\n",
       "</div>"
      ],
      "text/plain": [
       "                     unique_id   AutoARIMA\n",
       "ds                                        \n",
       "2017-02-08 00:00:00          1  112.063156\n",
       "2017-02-08 01:00:00          1  110.415657\n",
       "2017-02-08 02:00:00          1  107.883820\n",
       "2017-02-08 03:00:00          1  105.835960\n",
       "2017-02-08 04:00:00          1  104.206467\n",
       "...                        ...         ...\n",
       "2017-02-14 19:00:00          1    7.585774\n",
       "2017-02-14 20:00:00          1    8.040824\n",
       "2017-02-14 21:00:00          1    7.389902\n",
       "2017-02-14 22:00:00          1    7.262471\n",
       "2017-02-14 23:00:00          1    7.267418\n",
       "\n",
       "[168 rows x 2 columns]"
      ]
     },
     "execution_count": 84,
     "metadata": {},
     "output_type": "execute_result"
    }
   ],
   "source": [
    "df_predict1 = df_predict.copy()\n",
    "\n",
    "df_predict1.index = pd.to_datetime(df_predict1.index,infer_datetime_format=True)\n",
    "df_predict1.index.dtype\n",
    "df_predict1"
   ]
  },
  {
   "cell_type": "code",
   "execution_count": 86,
   "id": "2076624d",
   "metadata": {},
   "outputs": [
    {
     "data": {
      "text/plain": [
       "ds\n",
       "2017-02-08 00:00:00    113.0\n",
       "2017-02-08 01:00:00    117.0\n",
       "2017-02-08 02:00:00    118.0\n",
       "2017-02-08 03:00:00    118.0\n",
       "2017-02-08 04:00:00    111.0\n",
       "                       ...  \n",
       "2017-02-14 19:00:00    210.0\n",
       "2017-02-14 20:00:00    211.0\n",
       "2017-02-14 21:00:00    227.0\n",
       "2017-02-14 22:00:00    247.0\n",
       "2017-02-14 23:00:00    260.0\n",
       "Name: y, Length: 168, dtype: float64"
      ]
     },
     "execution_count": 86,
     "metadata": {},
     "output_type": "execute_result"
    }
   ],
   "source": [
    "real_val['AutoARIMA'] = np.nan\n",
    "real_val= real_val.fillna(df_predict1,axis=1)\n",
    "real_val.tail(24)\n",
    "real_val.y"
   ]
  },
  {
   "cell_type": "code",
   "execution_count": 87,
   "id": "d98f4871",
   "metadata": {},
   "outputs": [
    {
     "data": {
      "text/plain": [
       "74.65534333671842"
      ]
     },
     "execution_count": 87,
     "metadata": {},
     "output_type": "execute_result"
    }
   ],
   "source": [
    "val_mae = mean_absolute_error(real_val[\"y\"] , real_val[\"AutoARIMA\"])\n",
    "val_mae"
   ]
  },
  {
   "cell_type": "code",
   "execution_count": 88,
   "id": "054aa585",
   "metadata": {},
   "outputs": [
    {
     "data": {
      "text/plain": [
       "<AxesSubplot: xlabel='ds'>"
      ]
     },
     "execution_count": 88,
     "metadata": {},
     "output_type": "execute_result"
    },
    {
     "data": {
      "image/png": "[encoded data removed]",
      "text/plain": [
       "<Figure size 1600x400 with 1 Axes>"
      ]
     },
     "metadata": {},
     "output_type": "display_data"
    }
   ],
   "source": [
    "real_val[[\"AutoARIMA\",\"y\"]].plot()"
   ]
  },
  {
   "cell_type": "code",
   "execution_count": null,
   "id": "0bf4de2a",
   "metadata": {},
   "outputs": [],
   "source": []
  }
 ],
 "metadata": {
  "kernelspec": {
   "display_name": "Python 3 (ipykernel)",
   "language": "python",
   "name": "python3"
  },
  "language_info": {
   "codemirror_mode": {
    "name": "ipython",
    "version": 3
   },
   "file_extension": ".py",
   "mimetype": "text/x-python",
   "name": "python",
   "nbconvert_exporter": "python",
   "pygments_lexer": "ipython3",
   "version": "3.8.14"
  }
 },
 "nbformat": 4,
 "nbformat_minor": 5
}
